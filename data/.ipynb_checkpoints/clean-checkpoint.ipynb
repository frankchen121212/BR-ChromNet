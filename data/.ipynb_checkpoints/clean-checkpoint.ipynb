{
 "cells": [
  {
   "cell_type": "code",
   "execution_count": 1,
   "id": "190601f1",
   "metadata": {},
   "outputs": [],
   "source": [
    "import os\n",
    "import random"
   ]
  },
  {
   "cell_type": "code",
   "execution_count": 2,
   "id": "e9c6e7b0",
   "metadata": {},
   "outputs": [],
   "source": [
    "for abnormal_type in ['1qh+','9qh+','inv9_p12q13']:\n",
    "    for mm in ['normal','abnormal']:\n",
    "        \n",
    "        \n",
    "        current_dir = os.path.join('/home/chens0a/BRChromNet/data/{}/{}'.format(abnormal_type,mm))\n",
    "        \n",
    "        total_files = os.listdir(current_dir)\n",
    "        total_ids = []\n",
    "        \n",
    "        for f in total_files:\n",
    "            idd = f.strip('.png').strip('.npy')\n",
    "            if idd not in total_ids:\n",
    "                total_ids.append(idd)\n",
    "            \n",
    "            \n",
    "        remains = random.sample(total_ids,5)\n",
    "        \n",
    "        for file in os.listdir(current_dir):\n",
    "        \n",
    "            f_id = file.strip('.png').strip('.npy')\n",
    "            if f_id not in remains:\n",
    "                os.system('rm -rf /home/chens0a/BRChromNet/data/{}/{}/{}'.format(abnormal_type,mm,file))"
   ]
  },
  {
   "cell_type": "code",
   "execution_count": null,
   "id": "4d6f2bf4",
   "metadata": {},
   "outputs": [],
   "source": []
  },
  {
   "cell_type": "code",
   "execution_count": null,
   "id": "9fcf9f7c",
   "metadata": {},
   "outputs": [],
   "source": []
  },
  {
   "cell_type": "code",
   "execution_count": null,
   "id": "2daa7919",
   "metadata": {},
   "outputs": [],
   "source": []
  }
 ],
 "metadata": {
  "kernelspec": {
   "display_name": "Python [conda env:.conda-python36] *",
   "language": "python",
   "name": "conda-env-.conda-python36-py"
  },
  "language_info": {
   "codemirror_mode": {
    "name": "ipython",
    "version": 3
   },
   "file_extension": ".py",
   "mimetype": "text/x-python",
   "name": "python",
   "nbconvert_exporter": "python",
   "pygments_lexer": "ipython3",
   "version": "3.6.13"
  }
 },
 "nbformat": 4,
 "nbformat_minor": 5
}
